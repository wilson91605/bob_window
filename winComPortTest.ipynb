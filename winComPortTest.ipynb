{
 "cells": [
  {
   "cell_type": "code",
   "execution_count": 1,
   "metadata": {},
   "outputs": [],
   "source": [
    "from robot.concrete.crt_dynamixel import Dynamixel\n",
    "from robot.concrete.servo_utils import CSVServoAgent\n",
    "from serial.tools.list_ports import comports\n",
    "import re"
   ]
  },
  {
   "cell_type": "code",
   "execution_count": 2,
   "metadata": {},
   "outputs": [
    {
     "name": "stdout",
     "output_type": "stream",
     "text": [
      "COM9\n"
     ]
    },
    {
     "data": {
      "text/plain": [
       "'COM9'"
      ]
     },
     "execution_count": 2,
     "metadata": {},
     "output_type": "execute_result"
    }
   ],
   "source": [
    "def getSerialNameByDescription(description: str):\n",
    "    for port in comports():\n",
    "        if re.search(description, port.description):\n",
    "            print(port.device)\n",
    "            return port.device\n",
    "    raise Exception(description + \" not found.\")\n",
    "\n",
    "getSerialNameByDescription(\".*USB.*\")"
   ]
  },
  {
   "cell_type": "code",
   "execution_count": 3,
   "metadata": {},
   "outputs": [
    {
     "name": "stdout",
     "output_type": "stream",
     "text": [
      "COM9\n",
      "[]\n"
     ]
    }
   ],
   "source": [
    "\n",
    "agent = CSVServoAgent(\"servos.csv\")\n",
    "dynamixel = Dynamixel(getSerialNameByDescription(\".*USB.*\"), 115200)\n",
    "print(dynamixel.servos)\n",
    "for servo in agent.getDefinedServos():\n",
    "    dynamixel.appendServo(servo)\n"
   ]
  },
  {
   "cell_type": "code",
   "execution_count": 4,
   "metadata": {},
   "outputs": [
    {
     "name": "stdout",
     "output_type": "stream",
     "text": [
      "COM9 - Silicon Labs CP210x USB to UART Bridge (COM9)\n",
      "COM1 - 通訊連接埠 (COM1)\n",
      "COM13 - USB Serial Port (COM13)\n"
     ]
    }
   ],
   "source": [
    "import re\n",
    "\n",
    "from serial.tools.list_ports import comports\n",
    "\n",
    "\n",
    "for port in comports():\n",
    "    print(port)\n",
    "\n",
    "\n",
    "\n",
    "\n"
   ]
  },
  {
   "cell_type": "code",
   "execution_count": null,
   "metadata": {},
   "outputs": [],
   "source": []
  }
 ],
 "metadata": {
  "kernelspec": {
   "display_name": "bob",
   "language": "python",
   "name": "python3"
  },
  "language_info": {
   "codemirror_mode": {
    "name": "ipython",
    "version": 3
   },
   "file_extension": ".py",
   "mimetype": "text/x-python",
   "name": "python",
   "nbconvert_exporter": "python",
   "pygments_lexer": "ipython3",
   "version": "3.8.19"
  }
 },
 "nbformat": 4,
 "nbformat_minor": 2
}
